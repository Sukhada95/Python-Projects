{
 "cells": [
  {
   "cell_type": "markdown",
   "metadata": {},
   "source": [
    "# Capstone Project - The Battle of the Neighborhoods (Week 1)\n",
    "### Applied Data Science Capstone by IBM/Coursera"
   ]
  },
  {
   "cell_type": "markdown",
   "metadata": {},
   "source": [
    "## Table of contents\n",
    "* [Introduction: Business Problem](#introduction)\n",
    "* [Data](#data)"
   ]
  },
  {
   "cell_type": "markdown",
   "metadata": {},
   "source": [
    "\n",
    "\n",
    "## Introduction: Business Problem <a name=\"introduction\"></a>"
   ]
  },
  {
   "cell_type": "markdown",
   "metadata": {},
   "source": [
    "In this project we have tried to find an optimal location for a **Café**. Specifically, this report is targeted towards stakeholders interested in opening a **Café** in a neighborhood in **Brooklyn**, New York City.\n",
    "\n",
    "Four important parameters were considered while selecting the final location for the cafe:\n",
    "1. Population of the neighborhood\n",
    "2. Average Household income of the neighborhood\n",
    "3. Average asking rent PSF (Ground Floor Retail) in the neighborhood\n",
    "4. Most visited venues in the neighborhood (using Foursquare API)\n",
    "\n",
    "Due to limited availability of Average asking rent PSF data on the internet, the following **major Brooklyn Corridors** were taken into consideration:\n",
    "1. Greenpoint\n",
    "2. Williamsburg\n",
    "3. DUMBO-Downtown Brooklyn-Boerum Hill\n",
    "4. Brooklyn Heights-Cobble Hill\n",
    "5. Prospect Heights\n",
    "6. Park Slope\n",
    "7. Bay Ridge-Fort Hamilton\n",
    "\n",
    "Also, as can be seen above, some of the neighborhoods were combined as one entity as in the geojson file which will be used to plot maps."
   ]
  },
  {
   "cell_type": "markdown",
   "metadata": {},
   "source": [
    "## Data <a name=\"data\"></a>"
   ]
  },
  {
   "cell_type": "markdown",
   "metadata": {},
   "source": [
    "Following data sources were used to extract the required information:\n",
    "\n",
    "1. To obtain the population data, https://www.worldatlas.com/articles/brooklyn-neighborhoods-by-population.html was referred.\n",
    "2. Average Household income data of the neighborhoods was taken from the website https://www.point2homes.com/US/Neighborhood/NY/Brooklyn-Demographics.html .\n",
    "3. Average asking rent PSF (Ground Floor Retail) in the neighborhoods was taken from the website https://www.rebny.com/content/dam/rebny/Documents/PDF/News/Research/Retail%20Reports/2020_Winter_BrooklynRetailReport.pdf . This is the **Winter 2020 report** published on date 17th March, 2020 by **REBNY**.\n",
    "4. The data of most visited venues in the neighborhoods was obtained using **Foursquare API**.\n",
    "\n",
    "To generate the dataframes from the information obtained using the websites mentioned above, the data was arranged into a separate excel file for each parameter. These files can be found in the same github folder as this report.\n",
    "\n",
    "The results from all the four parameters will be combined to get to the final solution, i.e., the most favorable location for opening a Café in Brooklyn.\n",
    "The results are based on the four parameters stated above, however, some other factors can be taken into consideration according to individual's priorities."
   ]
  },
  {
   "cell_type": "code",
   "execution_count": null,
   "metadata": {},
   "outputs": [],
   "source": []
  }
 ],
 "metadata": {
  "kernelspec": {
   "display_name": "Python 3",
   "language": "python",
   "name": "python3"
  },
  "language_info": {
   "codemirror_mode": {
    "name": "ipython",
    "version": 3
   },
   "file_extension": ".py",
   "mimetype": "text/x-python",
   "name": "python",
   "nbconvert_exporter": "python",
   "pygments_lexer": "ipython3",
   "version": "3.7.0"
  }
 },
 "nbformat": 4,
 "nbformat_minor": 2
}
